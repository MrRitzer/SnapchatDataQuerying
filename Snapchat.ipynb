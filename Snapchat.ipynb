{
 "cells": [
  {
   "cell_type": "code",
   "execution_count": null,
   "id": "985c8b29",
   "metadata": {},
   "outputs": [],
   "source": [
    "import json\n",
    "import os"
   ]
  },
  {
   "cell_type": "code",
   "execution_count": null,
   "id": "5ecce054",
   "metadata": {},
   "outputs": [],
   "source": [
    "res = os.listdir(\"data/json\")\n",
    "res.sort()\n",
    "res"
   ]
  },
  {
   "cell_type": "code",
   "execution_count": null,
   "id": "42ac6927",
   "metadata": {},
   "outputs": [],
   "source": [
    "file = open(\"data/json/friends.json\")\n",
    "data = json.load(file)"
   ]
  },
  {
   "cell_type": "code",
   "execution_count": null,
   "id": "22a3d363",
   "metadata": {},
   "outputs": [],
   "source": [
    "opts = []\n",
    "for d in data:\n",
    "    opts.append(d)\n",
    "opts"
   ]
  },
  {
   "cell_type": "code",
   "execution_count": null,
   "id": "91a9f006",
   "metadata": {},
   "outputs": [],
   "source": [
    "people = [] \n",
    "for d in data[opts[3]]:\n",
    "    people.append((d['Username'],d['Display Name']))\n",
    "people.sort()\n",
    "people"
   ]
  },
  {
   "cell_type": "code",
   "execution_count": null,
   "id": "c4885d97",
   "metadata": {},
   "outputs": [],
   "source": [
    "file = open(\"data/json/chat_history.json\")\n",
    "data = json.load(file)"
   ]
  },
  {
   "cell_type": "code",
   "execution_count": null,
   "id": "b450e092",
   "metadata": {},
   "outputs": [],
   "source": [
    "opts = []\n",
    "for d in data:\n",
    "    opts.append(d)\n",
    "opts.sort()\n",
    "opts"
   ]
  },
  {
   "cell_type": "code",
   "execution_count": null,
   "id": "779e022d",
   "metadata": {
    "scrolled": false
   },
   "outputs": [],
   "source": [
    "people = []\n",
    "for d in data[opts[0]]:\n",
    "    people.append(d['From'])\n",
    "for d in data[opts[1]]:\n",
    "    people.append(d['From'])\n",
    "for d in data[opts[2]]:\n",
    "    people.append(d['To'])\n",
    "for d in data[opts[3]]:\n",
    "    people.append(d['To'])\n",
    "temp = set(people)\n",
    "people = []\n",
    "for t in temp:\n",
    "    people.append(t)\n",
    "people.sort()\n",
    "for p in people:\n",
    "    print(p)"
   ]
  },
  {
   "cell_type": "code",
   "execution_count": null,
   "id": "9c20a3db",
   "metadata": {},
   "outputs": [],
   "source": [
    "chats = []\n",
    "match = 'clairemcardle14'\n",
    "for d in data[opts[0]]:\n",
    "    if d['From'] == match:\n",
    "        chats.append(d)\n",
    "for d in data[opts[1]]:\n",
    "    if d['From'] == match:\n",
    "        chats.append(d)\n",
    "for d in data[opts[2]]:\n",
    "    if d['To'] == match:\n",
    "        chats.append(d)\n",
    "for d in data[opts[3]]:\n",
    "    if d['To'] == match:\n",
    "        chats.append(d)\n",
    "len(chats)"
   ]
  }
 ],
 "metadata": {
  "kernelspec": {
   "display_name": "Python 3.10.6 ('env': venv)",
   "language": "python",
   "name": "python3"
  },
  "language_info": {
   "codemirror_mode": {
    "name": "ipython",
    "version": 3
   },
   "file_extension": ".py",
   "mimetype": "text/x-python",
   "name": "python",
   "nbconvert_exporter": "python",
   "pygments_lexer": "ipython3",
   "version": "3.10.6"
  },
  "vscode": {
   "interpreter": {
    "hash": "c35cf7f9ebeb8f210ad86a0083a5fbf271aeb5aa97d5445b9d884fa598524d76"
   }
  }
 },
 "nbformat": 4,
 "nbformat_minor": 5
}
